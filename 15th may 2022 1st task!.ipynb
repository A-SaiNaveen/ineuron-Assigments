{
 "cells": [
  {
   "cell_type": "code",
   "execution_count": 2,
   "id": "c6c909c4",
   "metadata": {},
   "outputs": [
    {
     "data": {
      "text/plain": [
       "'tssyityopgmncsa alrNph rgni ni'"
      ]
     },
     "execution_count": 2,
     "metadata": {},
     "output_type": "execute_result"
    }
   ],
   "source": [
    "# 1 . Try to extract data from index one to index 300 with a jump of 3 \n",
    "\n",
    "s = \"this is My First Python programming class and i am learNING python string and its function\"\n",
    "s[0:300:3]"
   ]
  },
  {
   "cell_type": "code",
   "execution_count": 3,
   "id": "ef0f2e69",
   "metadata": {},
   "outputs": [
    {
     "data": {
      "text/plain": [
       "'noitcnuf sti dna gnirts nohtyp GNINrael ma i dna ssalc gnimmargorp nohtyP tsriF yM si siht'"
      ]
     },
     "execution_count": 3,
     "metadata": {},
     "output_type": "execute_result"
    }
   ],
   "source": [
    "# 2. Try to reverse a string without using reverse function \n",
    "s[::-1]"
   ]
  },
  {
   "cell_type": "code",
   "execution_count": 4,
   "id": "8260675e",
   "metadata": {},
   "outputs": [],
   "source": [
    "# 3. Try to split a string after conversion of entire string in uppercase \n",
    "s1=s.upper()"
   ]
  },
  {
   "cell_type": "code",
   "execution_count": 5,
   "id": "46391c3b",
   "metadata": {},
   "outputs": [
    {
     "data": {
      "text/plain": [
       "'THIS IS MY FIRST PYTHON PROGRAMMING CLASS AND I AM LEARNING PYTHON STRING AND ITS FUNCTION'"
      ]
     },
     "execution_count": 5,
     "metadata": {},
     "output_type": "execute_result"
    }
   ],
   "source": [
    "s1"
   ]
  },
  {
   "cell_type": "code",
   "execution_count": 6,
   "id": "13e8dfa4",
   "metadata": {},
   "outputs": [
    {
     "data": {
      "text/plain": [
       "['THIS',\n",
       " 'IS',\n",
       " 'MY',\n",
       " 'FIRST',\n",
       " 'PYTHON',\n",
       " 'PROGRAMMING',\n",
       " 'CLASS',\n",
       " 'AND',\n",
       " 'I',\n",
       " 'AM',\n",
       " 'LEARNING',\n",
       " 'PYTHON',\n",
       " 'STRING',\n",
       " 'AND',\n",
       " 'ITS',\n",
       " 'FUNCTION']"
      ]
     },
     "execution_count": 6,
     "metadata": {},
     "output_type": "execute_result"
    }
   ],
   "source": [
    "s1.split()"
   ]
  },
  {
   "cell_type": "code",
   "execution_count": 7,
   "id": "e0ab6d5d",
   "metadata": {},
   "outputs": [
    {
     "data": {
      "text/plain": [
       "'this is my first python programming class and i am learning python string and its function'"
      ]
     },
     "execution_count": 7,
     "metadata": {},
     "output_type": "execute_result"
    }
   ],
   "source": [
    "#4 4. try to convert the whole string into lower case \n",
    "s1.lower()"
   ]
  },
  {
   "cell_type": "code",
   "execution_count": 8,
   "id": "03dad917",
   "metadata": {},
   "outputs": [
    {
     "data": {
      "text/plain": [
       "'THIS IS MY FIRST PYTHON PROGRAMMING CLASS AND I AM LEARNING PYTHON STRING AND ITS FUNCTION'"
      ]
     },
     "execution_count": 8,
     "metadata": {},
     "output_type": "execute_result"
    }
   ],
   "source": [
    "# 5 . Try to capitalize the whole string \n",
    "s1.upper()"
   ]
  },
  {
   "cell_type": "code",
   "execution_count": 9,
   "id": "56413a6b",
   "metadata": {},
   "outputs": [],
   "source": [
    "# 6 . Write a diference between isalnum() and isalpha()\n",
    "# ANS- isalnum checkes weather the strings contains numaric values or not in a string, if numbers are present it returns \"True\" otherwise \"False\", if the string has combination of numbers and alphabets it returns \"False\" ex:s=\"gty675539jk\"\n",
    "# ANS- isalpha checkes weather the strings contains alphabets or not in a string, if alphabets are present it returns \"True\" otherwise \"False\",if the string has combination of alphabets and numbers it returns \"False\" ex:g=\"hgyug7649273ohyu\""
   ]
  },
  {
   "cell_type": "code",
   "execution_count": 10,
   "id": "70153602",
   "metadata": {},
   "outputs": [
    {
     "data": {
      "text/plain": [
       "'Hare     Krishna         Hare    Rama'"
      ]
     },
     "execution_count": 10,
     "metadata": {},
     "output_type": "execute_result"
    }
   ],
   "source": [
    "#7. Try to give an example of expand tab\n",
    "s2=(\"Hare\\t Krishna\\t Hare\\t Rama\")\n",
    "s2.expandtabs()"
   ]
  },
  {
   "cell_type": "code",
   "execution_count": 13,
   "id": "8a3866e9",
   "metadata": {},
   "outputs": [
    {
     "data": {
      "text/plain": [
       "'harekrishna'"
      ]
     },
     "execution_count": 13,
     "metadata": {},
     "output_type": "execute_result"
    }
   ],
   "source": [
    "# 8 . Give an example of strip , lstrip and rstrip \n",
    "s3=\"     harekrishna        \"\n",
    "s3.strip()"
   ]
  },
  {
   "cell_type": "code",
   "execution_count": 14,
   "id": "dd36e06b",
   "metadata": {},
   "outputs": [
    {
     "data": {
      "text/plain": [
       "'harekrishna        '"
      ]
     },
     "execution_count": 14,
     "metadata": {},
     "output_type": "execute_result"
    }
   ],
   "source": [
    "s3.lstrip()"
   ]
  },
  {
   "cell_type": "code",
   "execution_count": 15,
   "id": "3ca13ef1",
   "metadata": {},
   "outputs": [
    {
     "data": {
      "text/plain": [
       "'     harekrishna'"
      ]
     },
     "execution_count": 15,
     "metadata": {},
     "output_type": "execute_result"
    }
   ],
   "source": [
    "s3.rstrip()"
   ]
  },
  {
   "cell_type": "code",
   "execution_count": 16,
   "id": "66889c48",
   "metadata": {},
   "outputs": [
    {
     "data": {
      "text/plain": [
       "'zudhanzhu'"
      ]
     },
     "execution_count": 16,
     "metadata": {},
     "output_type": "execute_result"
    }
   ],
   "source": [
    "# 9.  Replace a string charecter by another charector by taking your own example \"sudhanshu\" \n",
    "\n",
    "a=\"sudhanshu\"\n",
    "a.replace('s','z')"
   ]
  },
  {
   "cell_type": "code",
   "execution_count": 18,
   "id": "7ed94363",
   "metadata": {},
   "outputs": [
    {
     "data": {
      "text/plain": [
       "'$$$$$$$$$$$$$$$$$$ Hare Krishna $$$$$$$$$$$$$$$$$$'"
      ]
     },
     "execution_count": 18,
     "metadata": {},
     "output_type": "execute_result"
    }
   ],
   "source": [
    "# 10 . Try  to give a defination of string center function with and exmple \n",
    "#ANS- srting center function makes the string to appeare in the middel with respective number of spaces that you give to the string\n",
    "b = \" Hare Krishna \"\n",
    "b.center(50,\"$\")\n",
    "\n",
    "# here \"50\" is the string length or size \"$\" is the notation that will appere on bothe sizes of the string"
   ]
  },
  {
   "cell_type": "code",
   "execution_count": 19,
   "id": "f131bf85",
   "metadata": {},
   "outputs": [],
   "source": [
    "# 11 . Write your own definition of compiler and interpretor without copy paste form internet in your own language\n",
    "#COMPILER- converts code into object code like.exe file and data is taken to that .exe file and run the program \"Real Life EX\"- watching a movie with english subtiles which means its already compiled and read to see.\n",
    "#Interpreter - check line by line and convert into object code and run the program, \"Real Life EX\"-Translator with translate the message line by line, in this case if we speack the translater would be translate."
   ]
  },
  {
   "cell_type": "code",
   "execution_count": 20,
   "id": "52f19861",
   "metadata": {},
   "outputs": [],
   "source": [
    "# 12 . Python is a interpreted of compiled language give a clear ans with your understanding \n",
    "# in my understanding python is both compiler and interpreter\n",
    "\n",
    "#Ex:-python is a platform independence, python compile its self and give us bite code, that bite code can run on pvm(python virtual machine)"
   ]
  },
  {
   "cell_type": "code",
   "execution_count": null,
   "id": "530b7e27",
   "metadata": {},
   "outputs": [],
   "source": [
    "#13 . Try to write a usecase of python with your understanding .\n",
    "\n",
    "# Python can be used in developing Web applications. Ex:-Netflex,google,uber\n",
    "# Python programming language are  used  Software development.\n",
    "# Python language is used  Data science.\n",
    "#Python is used  AI applications. Ex:lenskart\n",
    "#Python used for developing Game. Ex:-Battlefield 2,World of Tanks."
   ]
  }
 ],
 "metadata": {
  "kernelspec": {
   "display_name": "Python 3 (ipykernel)",
   "language": "python",
   "name": "python3"
  },
  "language_info": {
   "codemirror_mode": {
    "name": "ipython",
    "version": 3
   },
   "file_extension": ".py",
   "mimetype": "text/x-python",
   "name": "python",
   "nbconvert_exporter": "python",
   "pygments_lexer": "ipython3",
   "version": "3.9.12"
  }
 },
 "nbformat": 4,
 "nbformat_minor": 5
}
